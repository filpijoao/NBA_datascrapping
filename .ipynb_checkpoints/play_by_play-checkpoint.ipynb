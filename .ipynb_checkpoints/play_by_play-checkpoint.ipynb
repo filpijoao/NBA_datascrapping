{
 "cells": [
  {
   "cell_type": "markdown",
   "id": "967ba921",
   "metadata": {},
   "source": [
    "### Imports básicos"
   ]
  },
  {
   "cell_type": "code",
   "execution_count": 1,
   "id": "6c07a072",
   "metadata": {},
   "outputs": [],
   "source": [
    "import requests\n",
    "from bs4 import BeautifulSoup\n",
    "\n",
    "import numpy as np\n",
    "import pandas as pd\n",
    "\n",
    "import matplotlib.pyplot as plt\n",
    "import seaborn as sns"
   ]
  },
  {
   "cell_type": "code",
   "execution_count": 2,
   "id": "39a42f43",
   "metadata": {},
   "outputs": [],
   "source": [
    "from datetime import datetime"
   ]
  },
  {
   "cell_type": "code",
   "execution_count": 3,
   "id": "9270caef",
   "metadata": {},
   "outputs": [],
   "source": [
    "today = datetime.today().strftime('%Y-%m-%d')"
   ]
  },
  {
   "cell_type": "code",
   "execution_count": 4,
   "id": "0de7662d",
   "metadata": {},
   "outputs": [],
   "source": [
    "year = today[0:4]\n",
    "month = today[5:7]\n",
    "day = int(today[8:10]) -2"
   ]
  },
  {
   "cell_type": "code",
   "execution_count": 5,
   "id": "1d8c9aba",
   "metadata": {},
   "outputs": [
    {
     "name": "stdout",
     "output_type": "stream",
     "text": [
      "2024\n",
      "10\n",
      "25\n"
     ]
    }
   ],
   "source": [
    "print(year)\n",
    "print(month)\n",
    "print(day)"
   ]
  },
  {
   "cell_type": "markdown",
   "id": "05981097",
   "metadata": {},
   "source": [
    "# Explorando os dados"
   ]
  },
  {
   "cell_type": "markdown",
   "id": "2bca298c",
   "metadata": {},
   "source": [
    "Primeiro o download o site e a criação do objeto"
   ]
  },
  {
   "cell_type": "code",
   "execution_count": 8,
   "id": "bb73b6d7",
   "metadata": {},
   "outputs": [],
   "source": [
    "def get_pbp(d, m, y, url_list):\n",
    "    \n",
    "    #Definindo a url do dia\n",
    "    url = f\"https://www.basketball-reference.com/boxscores/?month={m}&day={d}&year={y}\"\n",
    "    \n",
    "    #Download do site\n",
    "    response = requests.get(url)\n",
    "    soup = BeautifulSoup(response.content, \"html.parser\")\n",
    "    \n",
    "    #Lista de jogos do dia\n",
    "    games = soup.find('div', id='content').find('div', class_='game_summaries'\n",
    "                        ).find_all('div', class_='game_summary expanded nohover')\n",
    "    \n",
    "    #Adicionando Urls do play_by_play\n",
    "    for i in games:\n",
    "        url_list.append(i.find('p', class_='links').find_all('a')[1].attrs['href'])\n",
    "    "
   ]
  },
  {
   "cell_type": "code",
   "execution_count": 9,
   "id": "348b1821",
   "metadata": {},
   "outputs": [],
   "source": [
    "today_urls = []\n",
    "get_pbp(d=day, m=month, y=year, url_list=today_urls)"
   ]
  },
  {
   "cell_type": "code",
   "execution_count": 10,
   "id": "e3779368",
   "metadata": {},
   "outputs": [
    {
     "data": {
      "text/plain": [
       "['/boxscores/pbp/202410250ATL.html',\n",
       " '/boxscores/pbp/202410250CLE.html',\n",
       " '/boxscores/pbp/202410250HOU.html',\n",
       " '/boxscores/pbp/202410250LAL.html',\n",
       " '/boxscores/pbp/202410250MIL.html',\n",
       " '/boxscores/pbp/202410250NYK.html',\n",
       " '/boxscores/pbp/202410250ORL.html',\n",
       " '/boxscores/pbp/202410250POR.html',\n",
       " '/boxscores/pbp/202410250TOR.html',\n",
       " '/boxscores/pbp/202410250UTA.html']"
      ]
     },
     "execution_count": 10,
     "metadata": {},
     "output_type": "execute_result"
    }
   ],
   "source": [
    "today_urls"
   ]
  },
  {
   "cell_type": "code",
   "execution_count": 11,
   "id": "e17bb422",
   "metadata": {},
   "outputs": [],
   "source": [
    "pbp_url = f'https://www.basketball-reference.com/boxscores{today_urls[0]}'"
   ]
  },
  {
   "cell_type": "code",
   "execution_count": 14,
   "id": "4ca9a019",
   "metadata": {},
   "outputs": [],
   "source": [
    "response_pbp = requests.get(pbp_url)"
   ]
  },
  {
   "cell_type": "code",
   "execution_count": null,
   "id": "28a146fa",
   "metadata": {},
   "outputs": [],
   "source": []
  },
  {
   "cell_type": "code",
   "execution_count": null,
   "id": "86338d53",
   "metadata": {},
   "outputs": [],
   "source": []
  },
  {
   "cell_type": "code",
   "execution_count": null,
   "id": "d0eeacb5",
   "metadata": {},
   "outputs": [],
   "source": []
  },
  {
   "cell_type": "code",
   "execution_count": null,
   "id": "f6fb4cbd",
   "metadata": {},
   "outputs": [],
   "source": []
  },
  {
   "cell_type": "code",
   "execution_count": null,
   "id": "ed5480d4",
   "metadata": {},
   "outputs": [],
   "source": []
  }
 ],
 "metadata": {
  "kernelspec": {
   "display_name": "Python 3 (ipykernel)",
   "language": "python",
   "name": "python3"
  },
  "language_info": {
   "codemirror_mode": {
    "name": "ipython",
    "version": 3
   },
   "file_extension": ".py",
   "mimetype": "text/x-python",
   "name": "python",
   "nbconvert_exporter": "python",
   "pygments_lexer": "ipython3",
   "version": "3.10.6"
  },
  "toc": {
   "base_numbering": 1,
   "nav_menu": {},
   "number_sections": true,
   "sideBar": true,
   "skip_h1_title": false,
   "title_cell": "Table of Contents",
   "title_sidebar": "Contents",
   "toc_cell": false,
   "toc_position": {},
   "toc_section_display": true,
   "toc_window_display": false
  }
 },
 "nbformat": 4,
 "nbformat_minor": 5
}
