{
 "cells": [
  {
   "cell_type": "markdown",
   "id": "6f302f5b",
   "metadata": {},
   "source": [
    "### Imports básicos"
   ]
  },
  {
   "cell_type": "code",
   "execution_count": 1,
   "id": "23f89e79",
   "metadata": {},
   "outputs": [],
   "source": [
    "import requests\n",
    "from bs4 import BeautifulSoup\n",
    "import math\n",
    "import random\n",
    "\n",
    "import numpy as np\n",
    "import pandas as pd\n",
    "\n",
    "import matplotlib.pyplot as plt\n",
    "import seaborn as sns"
   ]
  },
  {
   "cell_type": "code",
   "execution_count": 2,
   "id": "56b41ccd",
   "metadata": {},
   "outputs": [],
   "source": [
    "from datetime import datetime\n",
    "import time"
   ]
  },
  {
   "cell_type": "code",
   "execution_count": 3,
   "id": "a4b1c3bb",
   "metadata": {},
   "outputs": [],
   "source": [
    "today = datetime.today().strftime('%Y-%m-%d')"
   ]
  },
  {
   "cell_type": "code",
   "execution_count": 4,
   "id": "09ca14e8",
   "metadata": {},
   "outputs": [],
   "source": [
    "year = today[0:4]\n",
    "month = today[5:7]\n",
    "day = int(today[8:10]) -1"
   ]
  },
  {
   "cell_type": "code",
   "execution_count": 5,
   "id": "949747a7",
   "metadata": {},
   "outputs": [
    {
     "name": "stdout",
     "output_type": "stream",
     "text": [
      "2024\n",
      "10\n",
      "30\n"
     ]
    }
   ],
   "source": [
    "print(year)\n",
    "print(month)\n",
    "print(day)"
   ]
  },
  {
   "cell_type": "markdown",
   "id": "327c8c07",
   "metadata": {},
   "source": [
    "# Explorando os dados"
   ]
  },
  {
   "cell_type": "markdown",
   "id": "50a123a7",
   "metadata": {},
   "source": [
    "## Funções para o Download das informações"
   ]
  },
  {
   "cell_type": "code",
   "execution_count": 6,
   "id": "82aed7a3",
   "metadata": {},
   "outputs": [],
   "source": [
    "#Função para armazenar os jogos do dia\n",
    "def get_games(d, m, y, url_list):\n",
    "    \n",
    "    #adicionando um timer para não sobrecarregar o site\n",
    "    time.sleep(random.randint(8, 12))\n",
    "    \n",
    "    #Definindo a url do dia\n",
    "    url = f\"https://www.basketball-reference.com/boxscores/?month={m}&day={d}&year={y}\"\n",
    "    \n",
    "    #Download do site\n",
    "    response = requests.get(url)\n",
    "    soup = BeautifulSoup(response.content, \"html.parser\")\n",
    "    \n",
    "    #Lista de jogos do dia\n",
    "    games = soup.find('div', id='content').find('div', class_='game_summaries'\n",
    "                        ).find_all('div', class_='game_summary expanded nohover')\n",
    "    \n",
    "    #Adicionando Urls do play_by_play\n",
    "    for i in games:\n",
    "        url_list.append(i.find('p', class_='links').find_all('a')[1].attrs['href'])\n",
    "    "
   ]
  },
  {
   "cell_type": "code",
   "execution_count": 7,
   "id": "97d9224c",
   "metadata": {},
   "outputs": [],
   "source": [
    "#Função para coletar os dados de cada jogo para a tabelas de jogos\n",
    "def get_game_infos(d, m, y, games_dict, url):\n",
    "    \n",
    "    #adicionando um timer para não sobrecarregar o site\n",
    "    time.sleep(random.randint(8, 12))\n",
    "    \n",
    "    #Fazendo Download do site\n",
    "    pbp_url = f'https://www.basketball-reference.com{url}'\n",
    "    response_pbp = requests.get(pbp_url)\n",
    "    soup_pbp = BeautifulSoup(response_pbp.content, \"html.parser\")\n",
    "    \n",
    "    #Getting dict keys\n",
    "    dict_keys = list(games_dict)\n",
    "    \n",
    "    #Adicionando chave e infos do dias\n",
    "    games_dict[dict_keys[0]].append(url)\n",
    "    games_dict[dict_keys[1]].append(d)\n",
    "    games_dict[dict_keys[2]].append(m)\n",
    "    games_dict[dict_keys[3]].append(y)    \n",
    "    \n",
    "    #Adicionando infos do away team\n",
    "    away_team_name = soup_pbp.find('div', class_=\"scorebox\").find_all('div')[0].find('strong').find('a').text\n",
    "    games_dict[dict_keys[4]].append(away_team_name)\n",
    "    away_team_score = soup_pbp.find('div', class_=\"scorebox\").find_all('div')[0].find('div', class_ = 'score').text\n",
    "    games_dict[dict_keys[5]].append(away_team_score)\n",
    "    away_team_key = soup_pbp.find('div', class_=\"scorebox\").find_all('div')[0].find('strong').find('a').attrs['href']\n",
    "    games_dict[dict_keys[6]].append(away_team_key)\n",
    "    \n",
    "    #Adicionando infos do home team\n",
    "    home_team_name = soup_pbp.find('div', class_=\"scorebox\").find_all('div')[7].find('strong').find('a').text\n",
    "    games_dict[dict_keys[8]].append(home_team_name)\n",
    "    home_team_score = soup_pbp.find('div', class_=\"scorebox\").find_all('div')[7].find('div', class_ = 'score').text\n",
    "    games_dict[dict_keys[9]].append(home_team_score)\n",
    "    home_team_key = soup_pbp.find('div', class_=\"scorebox\").find_all('div')[7].find('strong').find('a').attrs['href']\n",
    "    games_dict[dict_keys[10]].append(home_team_key)\n",
    "    \n",
    "    #Calculando o Ganhador\n",
    "    if int(away_team_score) > int(home_team_score):\n",
    "        games_dict[dict_keys[7]].append('W')\n",
    "        games_dict[dict_keys[11]].append('L')\n",
    "    else:\n",
    "        games_dict[dict_keys[11]].append('W')\n",
    "        games_dict[dict_keys[7]].append('L')    \n",
    "        \n",
    "    #Coletando o play by play\n",
    "    plays = soup_pbp.find('table').find_all('tr')   \n",
    "    pbp = get_pbp(plays, url, away_team_name, home_team_name)\n",
    "    games_dict[dict_keys[12]].append(pbp)"
   ]
  },
  {
   "cell_type": "code",
   "execution_count": 8,
   "id": "3c34ef53",
   "metadata": {},
   "outputs": [],
   "source": [
    "# Função para coletar o play by play\n",
    "def get_pbp(pbp_table, key, at, ht):\n",
    "\n",
    "    #Dicionários com as info básicas de cada jogo\n",
    "    dict_pbp = {\n",
    "    'key' : [],\n",
    "    'quarter' : [],\n",
    "    'time' : [],\n",
    "    'score' : [],\n",
    "    'team_play' : [],\n",
    "    'play': [],\n",
    "    }\n",
    "    \n",
    "    #Apoio para calcular o quarto\n",
    "    q = 1\n",
    "    \n",
    "    #Loop para fazer o download das jogadas\n",
    "    for i in pbp_table[3:]:\n",
    "    \n",
    "        #Checar primeiro se uma linha da tabela com jogadas\n",
    "        if len(i.find_all('td')) == 6:\n",
    "            dict_pbp['key'].append(key)\n",
    "            dict_pbp['quarter'].append(f\"Q{q}\")\n",
    "            dict_pbp['time'].append(i.find_all('td')[0].text)\n",
    "            dict_pbp['score'].append(i.find_all('td')[3].text)\n",
    "          \n",
    "            #Checando se a jogada foi do time visitante ou do time da casa\n",
    "            if len(i.find_all('td')[1].text) > 2:\n",
    "                dict_pbp['team_play'].append(at)\n",
    "                dict_pbp['play'].append(i.find_all('td')[1].text)            \n",
    "            \n",
    "            elif len(i.find_all('td')[5].text) > 2:\n",
    "                dict_pbp['team_play'].append(ht)\n",
    "                dict_pbp['play'].append(i.find_all('td')[5].text)   \n",
    "            \n",
    "        #Bucando as linhas da tabela que indicam a mudança de quarto\n",
    "        elif len(i.find_all('th')) == 1:\n",
    "            q += 1\n",
    "    \n",
    "    return dict_pbp\n",
    "    "
   ]
  },
  {
   "cell_type": "code",
   "execution_count": 9,
   "id": "2536f08e",
   "metadata": {},
   "outputs": [],
   "source": [
    "games_table = {\n",
    "    'key' : [],\n",
    "    'day' : [],\n",
    "    'month' : [],\n",
    "    'year' : [],\n",
    "    'away_team' : [],\n",
    "    'away_team_score' : [],\n",
    "    'away_team_key' : [],\n",
    "    'away_team_W/L': [],\n",
    "    'home_team' : [],\n",
    "    'home_team_score' : [],\n",
    "    'home_team_key' : [],\n",
    "    'home_team_W/L': [],\n",
    "    'game_pbp' : []\n",
    "}"
   ]
  },
  {
   "cell_type": "markdown",
   "id": "8ba92f5f",
   "metadata": {},
   "source": [
    "## Checando as DFs para ver se o downaload foi eficaz"
   ]
  },
  {
   "cell_type": "markdown",
   "id": "928f1313",
   "metadata": {},
   "source": [
    "Coletando os dados"
   ]
  },
  {
   "cell_type": "code",
   "execution_count": 10,
   "id": "faa9720a",
   "metadata": {
    "scrolled": true
   },
   "outputs": [],
   "source": [
    "#Usando um dia travado para não comprometer as análises futuras\n",
    "today_urls = []\n",
    "get_games(d='30', m='10', y='2024', url_list=today_urls)"
   ]
  },
  {
   "cell_type": "code",
   "execution_count": 11,
   "id": "5357ed6a",
   "metadata": {},
   "outputs": [
    {
     "name": "stdout",
     "output_type": "stream",
     "text": [
      "/boxscores/pbp/202410300CHI.html\n",
      "/boxscores/pbp/202410300CHO.html\n",
      "/boxscores/pbp/202410300CLE.html\n",
      "/boxscores/pbp/202410300GSW.html\n",
      "/boxscores/pbp/202410300IND.html\n",
      "/boxscores/pbp/202410300LAC.html\n",
      "/boxscores/pbp/202410300MEM.html\n",
      "/boxscores/pbp/202410300MIA.html\n",
      "/boxscores/pbp/202410300OKC.html\n",
      "/boxscores/pbp/202410300PHI.html\n",
      "/boxscores/pbp/202410300WAS.html\n"
     ]
    }
   ],
   "source": [
    "for i in today_urls:\n",
    "    get_game_infos(d='30', m='10', y='2024', games_dict=games_table, url=i)\n",
    "    print(i)\n"
   ]
  },
  {
   "cell_type": "markdown",
   "id": "436bc508",
   "metadata": {},
   "source": [
    "Checando estrutura da tabela de jogos"
   ]
  },
  {
   "cell_type": "code",
   "execution_count": 12,
   "id": "f7faefc7",
   "metadata": {},
   "outputs": [
    {
     "data": {
      "text/html": [
       "<div>\n",
       "<style scoped>\n",
       "    .dataframe tbody tr th:only-of-type {\n",
       "        vertical-align: middle;\n",
       "    }\n",
       "\n",
       "    .dataframe tbody tr th {\n",
       "        vertical-align: top;\n",
       "    }\n",
       "\n",
       "    .dataframe thead th {\n",
       "        text-align: right;\n",
       "    }\n",
       "</style>\n",
       "<table border=\"1\" class=\"dataframe\">\n",
       "  <thead>\n",
       "    <tr style=\"text-align: right;\">\n",
       "      <th></th>\n",
       "      <th>key</th>\n",
       "      <th>day</th>\n",
       "      <th>month</th>\n",
       "      <th>year</th>\n",
       "      <th>away_team</th>\n",
       "      <th>away_team_score</th>\n",
       "      <th>away_team_key</th>\n",
       "      <th>away_team_W/L</th>\n",
       "      <th>home_team</th>\n",
       "      <th>home_team_score</th>\n",
       "      <th>home_team_key</th>\n",
       "      <th>home_team_W/L</th>\n",
       "    </tr>\n",
       "  </thead>\n",
       "  <tbody>\n",
       "    <tr>\n",
       "      <th>0</th>\n",
       "      <td>/boxscores/pbp/202410300CHI.html</td>\n",
       "      <td>30</td>\n",
       "      <td>10</td>\n",
       "      <td>2024</td>\n",
       "      <td>Orlando Magic</td>\n",
       "      <td>99</td>\n",
       "      <td>/teams/ORL/2025.html</td>\n",
       "      <td>L</td>\n",
       "      <td>Chicago Bulls</td>\n",
       "      <td>102</td>\n",
       "      <td>/teams/CHI/2025.html</td>\n",
       "      <td>W</td>\n",
       "    </tr>\n",
       "    <tr>\n",
       "      <th>1</th>\n",
       "      <td>/boxscores/pbp/202410300CHO.html</td>\n",
       "      <td>30</td>\n",
       "      <td>10</td>\n",
       "      <td>2024</td>\n",
       "      <td>Toronto Raptors</td>\n",
       "      <td>133</td>\n",
       "      <td>/teams/TOR/2025.html</td>\n",
       "      <td>L</td>\n",
       "      <td>Charlotte Hornets</td>\n",
       "      <td>138</td>\n",
       "      <td>/teams/CHO/2025.html</td>\n",
       "      <td>W</td>\n",
       "    </tr>\n",
       "    <tr>\n",
       "      <th>2</th>\n",
       "      <td>/boxscores/pbp/202410300CLE.html</td>\n",
       "      <td>30</td>\n",
       "      <td>10</td>\n",
       "      <td>2024</td>\n",
       "      <td>Los Angeles Lakers</td>\n",
       "      <td>110</td>\n",
       "      <td>/teams/LAL/2025.html</td>\n",
       "      <td>L</td>\n",
       "      <td>Cleveland Cavaliers</td>\n",
       "      <td>134</td>\n",
       "      <td>/teams/CLE/2025.html</td>\n",
       "      <td>W</td>\n",
       "    </tr>\n",
       "    <tr>\n",
       "      <th>3</th>\n",
       "      <td>/boxscores/pbp/202410300GSW.html</td>\n",
       "      <td>30</td>\n",
       "      <td>10</td>\n",
       "      <td>2024</td>\n",
       "      <td>New Orleans Pelicans</td>\n",
       "      <td>89</td>\n",
       "      <td>/teams/NOP/2025.html</td>\n",
       "      <td>L</td>\n",
       "      <td>Golden State Warriors</td>\n",
       "      <td>104</td>\n",
       "      <td>/teams/GSW/2025.html</td>\n",
       "      <td>W</td>\n",
       "    </tr>\n",
       "    <tr>\n",
       "      <th>4</th>\n",
       "      <td>/boxscores/pbp/202410300IND.html</td>\n",
       "      <td>30</td>\n",
       "      <td>10</td>\n",
       "      <td>2024</td>\n",
       "      <td>Boston Celtics</td>\n",
       "      <td>132</td>\n",
       "      <td>/teams/BOS/2025.html</td>\n",
       "      <td>L</td>\n",
       "      <td>Indiana Pacers</td>\n",
       "      <td>135</td>\n",
       "      <td>/teams/IND/2025.html</td>\n",
       "      <td>W</td>\n",
       "    </tr>\n",
       "    <tr>\n",
       "      <th>5</th>\n",
       "      <td>/boxscores/pbp/202410300LAC.html</td>\n",
       "      <td>30</td>\n",
       "      <td>10</td>\n",
       "      <td>2024</td>\n",
       "      <td>Portland Trail Blazers</td>\n",
       "      <td>106</td>\n",
       "      <td>/teams/POR/2025.html</td>\n",
       "      <td>W</td>\n",
       "      <td>Los Angeles Clippers</td>\n",
       "      <td>105</td>\n",
       "      <td>/teams/LAC/2025.html</td>\n",
       "      <td>L</td>\n",
       "    </tr>\n",
       "    <tr>\n",
       "      <th>6</th>\n",
       "      <td>/boxscores/pbp/202410300MEM.html</td>\n",
       "      <td>30</td>\n",
       "      <td>10</td>\n",
       "      <td>2024</td>\n",
       "      <td>Brooklyn Nets</td>\n",
       "      <td>119</td>\n",
       "      <td>/teams/BRK/2025.html</td>\n",
       "      <td>W</td>\n",
       "      <td>Memphis Grizzlies</td>\n",
       "      <td>106</td>\n",
       "      <td>/teams/MEM/2025.html</td>\n",
       "      <td>L</td>\n",
       "    </tr>\n",
       "    <tr>\n",
       "      <th>7</th>\n",
       "      <td>/boxscores/pbp/202410300MIA.html</td>\n",
       "      <td>30</td>\n",
       "      <td>10</td>\n",
       "      <td>2024</td>\n",
       "      <td>New York Knicks</td>\n",
       "      <td>116</td>\n",
       "      <td>/teams/NYK/2025.html</td>\n",
       "      <td>W</td>\n",
       "      <td>Miami Heat</td>\n",
       "      <td>107</td>\n",
       "      <td>/teams/MIA/2025.html</td>\n",
       "      <td>L</td>\n",
       "    </tr>\n",
       "    <tr>\n",
       "      <th>8</th>\n",
       "      <td>/boxscores/pbp/202410300OKC.html</td>\n",
       "      <td>30</td>\n",
       "      <td>10</td>\n",
       "      <td>2024</td>\n",
       "      <td>San Antonio Spurs</td>\n",
       "      <td>93</td>\n",
       "      <td>/teams/SAS/2025.html</td>\n",
       "      <td>L</td>\n",
       "      <td>Oklahoma City Thunder</td>\n",
       "      <td>105</td>\n",
       "      <td>/teams/OKC/2025.html</td>\n",
       "      <td>W</td>\n",
       "    </tr>\n",
       "    <tr>\n",
       "      <th>9</th>\n",
       "      <td>/boxscores/pbp/202410300PHI.html</td>\n",
       "      <td>30</td>\n",
       "      <td>10</td>\n",
       "      <td>2024</td>\n",
       "      <td>Detroit Pistons</td>\n",
       "      <td>105</td>\n",
       "      <td>/teams/DET/2025.html</td>\n",
       "      <td>W</td>\n",
       "      <td>Philadelphia 76ers</td>\n",
       "      <td>95</td>\n",
       "      <td>/teams/PHI/2025.html</td>\n",
       "      <td>L</td>\n",
       "    </tr>\n",
       "    <tr>\n",
       "      <th>10</th>\n",
       "      <td>/boxscores/pbp/202410300WAS.html</td>\n",
       "      <td>30</td>\n",
       "      <td>10</td>\n",
       "      <td>2024</td>\n",
       "      <td>Atlanta Hawks</td>\n",
       "      <td>120</td>\n",
       "      <td>/teams/ATL/2025.html</td>\n",
       "      <td>L</td>\n",
       "      <td>Washington Wizards</td>\n",
       "      <td>133</td>\n",
       "      <td>/teams/WAS/2025.html</td>\n",
       "      <td>W</td>\n",
       "    </tr>\n",
       "  </tbody>\n",
       "</table>\n",
       "</div>"
      ],
      "text/plain": [
       "                                 key day month  year               away_team  \\\n",
       "0   /boxscores/pbp/202410300CHI.html  30    10  2024           Orlando Magic   \n",
       "1   /boxscores/pbp/202410300CHO.html  30    10  2024         Toronto Raptors   \n",
       "2   /boxscores/pbp/202410300CLE.html  30    10  2024      Los Angeles Lakers   \n",
       "3   /boxscores/pbp/202410300GSW.html  30    10  2024    New Orleans Pelicans   \n",
       "4   /boxscores/pbp/202410300IND.html  30    10  2024          Boston Celtics   \n",
       "5   /boxscores/pbp/202410300LAC.html  30    10  2024  Portland Trail Blazers   \n",
       "6   /boxscores/pbp/202410300MEM.html  30    10  2024           Brooklyn Nets   \n",
       "7   /boxscores/pbp/202410300MIA.html  30    10  2024         New York Knicks   \n",
       "8   /boxscores/pbp/202410300OKC.html  30    10  2024       San Antonio Spurs   \n",
       "9   /boxscores/pbp/202410300PHI.html  30    10  2024         Detroit Pistons   \n",
       "10  /boxscores/pbp/202410300WAS.html  30    10  2024           Atlanta Hawks   \n",
       "\n",
       "   away_team_score         away_team_key away_team_W/L              home_team  \\\n",
       "0               99  /teams/ORL/2025.html             L          Chicago Bulls   \n",
       "1              133  /teams/TOR/2025.html             L      Charlotte Hornets   \n",
       "2              110  /teams/LAL/2025.html             L    Cleveland Cavaliers   \n",
       "3               89  /teams/NOP/2025.html             L  Golden State Warriors   \n",
       "4              132  /teams/BOS/2025.html             L         Indiana Pacers   \n",
       "5              106  /teams/POR/2025.html             W   Los Angeles Clippers   \n",
       "6              119  /teams/BRK/2025.html             W      Memphis Grizzlies   \n",
       "7              116  /teams/NYK/2025.html             W             Miami Heat   \n",
       "8               93  /teams/SAS/2025.html             L  Oklahoma City Thunder   \n",
       "9              105  /teams/DET/2025.html             W     Philadelphia 76ers   \n",
       "10             120  /teams/ATL/2025.html             L     Washington Wizards   \n",
       "\n",
       "   home_team_score         home_team_key home_team_W/L  \n",
       "0              102  /teams/CHI/2025.html             W  \n",
       "1              138  /teams/CHO/2025.html             W  \n",
       "2              134  /teams/CLE/2025.html             W  \n",
       "3              104  /teams/GSW/2025.html             W  \n",
       "4              135  /teams/IND/2025.html             W  \n",
       "5              105  /teams/LAC/2025.html             L  \n",
       "6              106  /teams/MEM/2025.html             L  \n",
       "7              107  /teams/MIA/2025.html             L  \n",
       "8              105  /teams/OKC/2025.html             W  \n",
       "9               95  /teams/PHI/2025.html             L  \n",
       "10             133  /teams/WAS/2025.html             W  "
      ]
     },
     "execution_count": 12,
     "metadata": {},
     "output_type": "execute_result"
    }
   ],
   "source": [
    "# Criando uma tabela apenas com so resultados dos jogos\n",
    "table = games_table.copy()\n",
    "table.pop('game_pbp')\n",
    "df = pd.DataFrame(table)\n",
    "df"
   ]
  },
  {
   "cell_type": "markdown",
   "id": "c10748c3",
   "metadata": {},
   "source": [
    "Checando A estrutura do Play - by - Play"
   ]
  },
  {
   "cell_type": "code",
   "execution_count": 13,
   "id": "cc5d857c",
   "metadata": {},
   "outputs": [
    {
     "data": {
      "text/html": [
       "<div>\n",
       "<style scoped>\n",
       "    .dataframe tbody tr th:only-of-type {\n",
       "        vertical-align: middle;\n",
       "    }\n",
       "\n",
       "    .dataframe tbody tr th {\n",
       "        vertical-align: top;\n",
       "    }\n",
       "\n",
       "    .dataframe thead th {\n",
       "        text-align: right;\n",
       "    }\n",
       "</style>\n",
       "<table border=\"1\" class=\"dataframe\">\n",
       "  <thead>\n",
       "    <tr style=\"text-align: right;\">\n",
       "      <th></th>\n",
       "      <th>key</th>\n",
       "      <th>quarter</th>\n",
       "      <th>time</th>\n",
       "      <th>score</th>\n",
       "      <th>team_play</th>\n",
       "      <th>play</th>\n",
       "    </tr>\n",
       "  </thead>\n",
       "  <tbody>\n",
       "    <tr>\n",
       "      <th>0</th>\n",
       "      <td>/boxscores/pbp/202410300CHI.html</td>\n",
       "      <td>Q1</td>\n",
       "      <td>11:44.0</td>\n",
       "      <td>3-0</td>\n",
       "      <td>Orlando Magic</td>\n",
       "      <td>K. Caldwell-Pope makes 3-pt jump shot from 26 ...</td>\n",
       "    </tr>\n",
       "    <tr>\n",
       "      <th>1</th>\n",
       "      <td>/boxscores/pbp/202410300CHI.html</td>\n",
       "      <td>Q1</td>\n",
       "      <td>11:27.0</td>\n",
       "      <td>3-2</td>\n",
       "      <td>Chicago Bulls</td>\n",
       "      <td>J. Giddey makes 2-pt jump shot from 20 ft</td>\n",
       "    </tr>\n",
       "    <tr>\n",
       "      <th>2</th>\n",
       "      <td>/boxscores/pbp/202410300CHI.html</td>\n",
       "      <td>Q1</td>\n",
       "      <td>11:15.0</td>\n",
       "      <td>3-2</td>\n",
       "      <td>Orlando Magic</td>\n",
       "      <td>P. Banchero misses 2-pt jump shot from 6 ft</td>\n",
       "    </tr>\n",
       "    <tr>\n",
       "      <th>3</th>\n",
       "      <td>/boxscores/pbp/202410300CHI.html</td>\n",
       "      <td>Q1</td>\n",
       "      <td>11:12.0</td>\n",
       "      <td>3-2</td>\n",
       "      <td>Chicago Bulls</td>\n",
       "      <td>Defensive rebound by J. Giddey</td>\n",
       "    </tr>\n",
       "    <tr>\n",
       "      <th>4</th>\n",
       "      <td>/boxscores/pbp/202410300CHI.html</td>\n",
       "      <td>Q1</td>\n",
       "      <td>11:01.0</td>\n",
       "      <td>3-2</td>\n",
       "      <td>Chicago Bulls</td>\n",
       "      <td>P. Williams misses 2-pt layup from 2 ft</td>\n",
       "    </tr>\n",
       "    <tr>\n",
       "      <th>...</th>\n",
       "      <td>...</td>\n",
       "      <td>...</td>\n",
       "      <td>...</td>\n",
       "      <td>...</td>\n",
       "      <td>...</td>\n",
       "      <td>...</td>\n",
       "    </tr>\n",
       "    <tr>\n",
       "      <th>454</th>\n",
       "      <td>/boxscores/pbp/202410300CHI.html</td>\n",
       "      <td>Q4</td>\n",
       "      <td>0:00.0</td>\n",
       "      <td>99-101</td>\n",
       "      <td>Chicago Bulls</td>\n",
       "      <td>Personal foul by A. Black (drawn by J. Giddey)</td>\n",
       "    </tr>\n",
       "    <tr>\n",
       "      <th>455</th>\n",
       "      <td>/boxscores/pbp/202410300CHI.html</td>\n",
       "      <td>Q4</td>\n",
       "      <td>0:00.0</td>\n",
       "      <td>99-101</td>\n",
       "      <td>Chicago Bulls</td>\n",
       "      <td>J. Giddey misses free throw 1 of 2</td>\n",
       "    </tr>\n",
       "    <tr>\n",
       "      <th>456</th>\n",
       "      <td>/boxscores/pbp/202410300CHI.html</td>\n",
       "      <td>Q4</td>\n",
       "      <td>0:00.0</td>\n",
       "      <td>99-101</td>\n",
       "      <td>Chicago Bulls</td>\n",
       "      <td>Offensive rebound by Team</td>\n",
       "    </tr>\n",
       "    <tr>\n",
       "      <th>457</th>\n",
       "      <td>/boxscores/pbp/202410300CHI.html</td>\n",
       "      <td>Q4</td>\n",
       "      <td>0:00.0</td>\n",
       "      <td>99-102</td>\n",
       "      <td>Chicago Bulls</td>\n",
       "      <td>J. Giddey makes free throw 2 of 2</td>\n",
       "    </tr>\n",
       "    <tr>\n",
       "      <th>458</th>\n",
       "      <td>/boxscores/pbp/202410300CHI.html</td>\n",
       "      <td>Q4</td>\n",
       "      <td>0:00.0</td>\n",
       "      <td>99-102</td>\n",
       "      <td>Orlando Magic</td>\n",
       "      <td>Orlando full timeout</td>\n",
       "    </tr>\n",
       "  </tbody>\n",
       "</table>\n",
       "<p>459 rows × 6 columns</p>\n",
       "</div>"
      ],
      "text/plain": [
       "                                  key quarter     time   score      team_play  \\\n",
       "0    /boxscores/pbp/202410300CHI.html      Q1  11:44.0     3-0  Orlando Magic   \n",
       "1    /boxscores/pbp/202410300CHI.html      Q1  11:27.0     3-2  Chicago Bulls   \n",
       "2    /boxscores/pbp/202410300CHI.html      Q1  11:15.0     3-2  Orlando Magic   \n",
       "3    /boxscores/pbp/202410300CHI.html      Q1  11:12.0     3-2  Chicago Bulls   \n",
       "4    /boxscores/pbp/202410300CHI.html      Q1  11:01.0     3-2  Chicago Bulls   \n",
       "..                                ...     ...      ...     ...            ...   \n",
       "454  /boxscores/pbp/202410300CHI.html      Q4   0:00.0  99-101  Chicago Bulls   \n",
       "455  /boxscores/pbp/202410300CHI.html      Q4   0:00.0  99-101  Chicago Bulls   \n",
       "456  /boxscores/pbp/202410300CHI.html      Q4   0:00.0  99-101  Chicago Bulls   \n",
       "457  /boxscores/pbp/202410300CHI.html      Q4   0:00.0  99-102  Chicago Bulls   \n",
       "458  /boxscores/pbp/202410300CHI.html      Q4   0:00.0  99-102  Orlando Magic   \n",
       "\n",
       "                                                  play  \n",
       "0    K. Caldwell-Pope makes 3-pt jump shot from 26 ...  \n",
       "1            J. Giddey makes 2-pt jump shot from 20 ft  \n",
       "2          P. Banchero misses 2-pt jump shot from 6 ft  \n",
       "3                       Defensive rebound by J. Giddey  \n",
       "4              P. Williams misses 2-pt layup from 2 ft  \n",
       "..                                                 ...  \n",
       "454     Personal foul by A. Black (drawn by J. Giddey)  \n",
       "455                 J. Giddey misses free throw 1 of 2  \n",
       "456                          Offensive rebound by Team  \n",
       "457                  J. Giddey makes free throw 2 of 2  \n",
       "458                               Orlando full timeout  \n",
       "\n",
       "[459 rows x 6 columns]"
      ]
     },
     "execution_count": 13,
     "metadata": {},
     "output_type": "execute_result"
    }
   ],
   "source": [
    "# Criando um dataframe \n",
    "df2 = pd.DataFrame(games_table['game_pbp'][0])\n",
    "df2"
   ]
  },
  {
   "cell_type": "markdown",
   "id": "14b38ae5",
   "metadata": {},
   "source": [
    "# Explorando os tipos de jogadas para criar as colunas da nossa base de dados"
   ]
  },
  {
   "cell_type": "markdown",
   "id": "71cbec41",
   "metadata": {
    "heading_collapsed": true
   },
   "source": [
    "### Criando lista com todas as jogadas do dia para a exploração e funções para tratar os dados"
   ]
  },
  {
   "cell_type": "code",
   "execution_count": null,
   "id": "b828e6a0",
   "metadata": {
    "hidden": true
   },
   "outputs": [],
   "source": [
    "#Criando uma lista com todas as jogadas do dia\n",
    "plays_list = []\n",
    "import string\n",
    "\n",
    "for i in games_table['game_pbp']:\n",
    "    for x in i['play']:\n",
    "        plays_list.append(x)\n",
    "\n",
    "plays_list = [x.replace('(', '').replace(')', '').replace(\".\",\n",
    "            '').replace(\"..\", '').replace(\";\", '').lower() for x in plays_list]\n",
    "\n",
    "plays_list"
   ]
  },
  {
   "cell_type": "code",
   "execution_count": null,
   "id": "30c1eb4e",
   "metadata": {
    "hidden": true
   },
   "outputs": [],
   "source": [
    "# Função para separar jogadas que tenham a palavra desejada\n",
    "from nltk.tokenize import word_tokenize\n",
    "\n",
    "def wanted_word_list(words_list, wanted_word):\n",
    "    \n",
    "    wanted_list = [i for i in words_list if wanted_word in i]\n",
    "    wanted_list = [word_tokenize(i) for i in wanted_list]\n",
    "    \n",
    "    return wanted_list"
   ]
  },
  {
   "cell_type": "code",
   "execution_count": null,
   "id": "c045c1fc",
   "metadata": {
    "hidden": true
   },
   "outputs": [],
   "source": [
    "#Função para entender o número máximos de palavra de cada lista\n",
    "from collections import Counter\n",
    "\n",
    "def find_max_words(words_list):\n",
    "    num_palavras = [len(sublista) for sublista in words_list]\n",
    "    contagem = Counter(num_palavras)\n",
    "    return max(contagem.keys())"
   ]
  },
  {
   "cell_type": "code",
   "execution_count": null,
   "id": "1d0af51b",
   "metadata": {
    "hidden": true
   },
   "outputs": [],
   "source": [
    "#Função para criar colunas\n",
    "def columns_def(max_w):\n",
    "    columns_list = []\n",
    "    for i in range(1,max_w+1):\n",
    "        columns_list.append(f\"word{i}\")\n",
    "    return columns_list"
   ]
  },
  {
   "cell_type": "markdown",
   "id": "a6f25507",
   "metadata": {
    "heading_collapsed": true
   },
   "source": [
    "### Exploranddo as palavras que mais se repetem"
   ]
  },
  {
   "cell_type": "code",
   "execution_count": null,
   "id": "d09c781e",
   "metadata": {
    "hidden": true
   },
   "outputs": [],
   "source": [
    "plays_list_token = [word_tokenize(i) for i in plays_list]\n",
    "plays_df = pd.DataFrame(plays_list_token)\n",
    "plays_df"
   ]
  },
  {
   "cell_type": "code",
   "execution_count": null,
   "id": "cfe3d82c",
   "metadata": {
    "hidden": true
   },
   "outputs": [],
   "source": [
    "plays_col = plays_df.columns.to_list()\n",
    "fig, axs = plt.subplots(nrows=len(plays_col), ncols=1, figsize=(10, 30))\n",
    "\n",
    "# Loop para criar os gráficos\n",
    "for n, col in enumerate(plays_col):\n",
    "    \n",
    "    # Não precisa converter o índice 'n' em índices de linha, já que row = n\n",
    "    row = n  # Cada subplot em uma nova linha\n",
    "    \n",
    "    top5_words = plays_df[col].value_counts(normalize=True)[0:10]\n",
    "    sns.barplot(x=top5_words.index, y=top5_words.values, ax=axs[row])\n",
    "    axs[row].set_title(col)  # Adicione um título ao gráfico\n",
    "\n",
    "plt.tight_layout()  # Para melhorar a disposição dos gráficos\n",
    "plt.show()\n"
   ]
  },
  {
   "cell_type": "code",
   "execution_count": null,
   "id": "9716213a",
   "metadata": {
    "hidden": true
   },
   "outputs": [],
   "source": [
    "top5_words = plays_df[0].value_counts(normalize=True)[0:10]\n",
    "top5_words"
   ]
  },
  {
   "cell_type": "markdown",
   "id": "7d6ea80c",
   "metadata": {
    "heading_collapsed": true
   },
   "source": [
    "## Colunas iniciais"
   ]
  },
  {
   "cell_type": "markdown",
   "id": "f0f6395f",
   "metadata": {
    "hidden": true
   },
   "source": [
    "Criando o dicionário que servirá de base para a base de dados tabular do play-by-play"
   ]
  },
  {
   "cell_type": "markdown",
   "id": "6521b953",
   "metadata": {
    "hidden": true
   },
   "source": [
    "Todas as jogadas contarão com essa informaçoes"
   ]
  },
  {
   "cell_type": "code",
   "execution_count": null,
   "id": "ae48a272",
   "metadata": {
    "hidden": true
   },
   "outputs": [],
   "source": [
    "pbp_tab_data = {\n",
    "    'key' : [],\n",
    "    'quarter' : [],\n",
    "    'time' : [],\n",
    "    'team' : [],\n",
    "    'player': [],\n",
    "}"
   ]
  },
  {
   "cell_type": "markdown",
   "id": "8b4839b2",
   "metadata": {
    "heading_collapsed": true
   },
   "source": [
    "## Arremessos feitos"
   ]
  },
  {
   "cell_type": "code",
   "execution_count": null,
   "id": "b7751029",
   "metadata": {
    "hidden": true
   },
   "outputs": [],
   "source": [
    "makes_list = wanted_word_list(plays_list, 'makes')\n",
    "max_words_make_list = find_max_words(makes_list)\n",
    "columns_make_list = columns_def(max_words_make_list)"
   ]
  },
  {
   "cell_type": "code",
   "execution_count": null,
   "id": "0d16f6cf",
   "metadata": {
    "hidden": true
   },
   "outputs": [],
   "source": [
    "makes_df = pd.DataFrame(makes_list, columns=columns_make_list)\n",
    "makes_df"
   ]
  },
  {
   "cell_type": "code",
   "execution_count": null,
   "id": "293e36a3",
   "metadata": {
    "hidden": true
   },
   "outputs": [],
   "source": [
    "# # Configuração das subplots\n",
    "\n",
    "fig, axs = plt.subplots(nrows=math.ceil(len(columns_make_list)/2), ncols=2, figsize=(10, 30))\n",
    "\n",
    "# Loop para criar os gráficos\n",
    "for n, col in enumerate(columns_make_list):\n",
    "    \n",
    "    # Converter o índice 'n' em índices de linha e coluna\n",
    "    row = n // 2\n",
    "    col_idx = n % 2\n",
    "    \n",
    "    top5_words = makes_df[col].value_counts(normalize=True)[0:10]\n",
    "    sns.barplot(x=top5_words.index, y=top5_words.values, ax=axs[row, col_idx])\n",
    "\n"
   ]
  },
  {
   "cell_type": "markdown",
   "id": "748edf7f",
   "metadata": {
    "hidden": true
   },
   "source": [
    "### Palavras a serem adicionadas"
   ]
  },
  {
   "cell_type": "code",
   "execution_count": null,
   "id": "0ff1a55f",
   "metadata": {
    "hidden": true
   },
   "outputs": [],
   "source": [
    "# Colunas necessárias \n",
    "pbp_tab_data['2PA'] = []\n",
    "pbp_tab_data['2PM'] = []\n",
    "pbp_tab_data['3PA'] = []\n",
    "pbp_tab_data['3PM'] = []\n",
    "pbp_tab_data['FTA'] = []\n",
    "pbp_tab_data['FTM'] = []\n",
    "pbp_tab_data['DUNK'] = []\n",
    "pbp_tab_data['LAYUP'] = []\n",
    "pbp_tab_data['HOOK'] = []\n",
    "pbp_tab_data['JUMP'] = []\n",
    "pbp_tab_data['shoot_dist'] = []\n",
    "pbp_tab_data['AST'] = []\n",
    "pbp_tab_data['AST_by'] = []\n",
    "pbp_tab_data['AST_to'] = []\n",
    "pbp_tab_data['technical'] = []\n",
    "pbp_tab_data['flagrant'] = []\n",
    "\n",
    "pbp_tab_data"
   ]
  },
  {
   "cell_type": "markdown",
   "id": "f902ba33",
   "metadata": {
    "heading_collapsed": true
   },
   "source": [
    "## Arremessos perdidos"
   ]
  },
  {
   "cell_type": "code",
   "execution_count": null,
   "id": "f018be82",
   "metadata": {
    "hidden": true
   },
   "outputs": [],
   "source": [
    "misses_list = wanted_word_list(plays_list, 'misses')\n",
    "max_words_miss_list = find_max_words(misses_list)\n",
    "columns_misses_list = columns_def(max_words_miss_list)"
   ]
  },
  {
   "cell_type": "code",
   "execution_count": null,
   "id": "2bda7b41",
   "metadata": {
    "hidden": true
   },
   "outputs": [],
   "source": [
    "misses_df = pd.DataFrame(misses_list, columns=columns_misses_list)\n",
    "misses_df"
   ]
  },
  {
   "cell_type": "code",
   "execution_count": null,
   "id": "8a32c2c9",
   "metadata": {
    "hidden": true
   },
   "outputs": [],
   "source": [
    "fig, axs = plt.subplots(nrows=math.ceil(len(columns_misses_list)/2), ncols=2, figsize=(10, 30))\n",
    "\n",
    "# Loop para criar os gráficos\n",
    "for n, col in enumerate(columns_misses_list):\n",
    "    \n",
    "    # Converter o índice 'n' em índices de linha e coluna\n",
    "    row = n // 2\n",
    "    col_idx = n % 2\n",
    "    \n",
    "    top5_words = misses_df[col].value_counts(normalize=True)[0:10]\n",
    "    sns.barplot(x=top5_words.index, y=top5_words.values, ax=axs[row, col_idx])"
   ]
  },
  {
   "cell_type": "markdown",
   "id": "59838a91",
   "metadata": {
    "hidden": true
   },
   "source": [
    "### Palavras a serem adicionadas"
   ]
  },
  {
   "cell_type": "code",
   "execution_count": null,
   "id": "4c08f66a",
   "metadata": {
    "hidden": true
   },
   "outputs": [],
   "source": [
    "# Colunas necessárias \n",
    "pbp_tab_data['BLK'] = []\n",
    "pbp_tab_data['BLK_by'] = []\n",
    "pbp_tab_data['BLK_to'] = []\n",
    "\n",
    "pbp_tab_data"
   ]
  },
  {
   "cell_type": "markdown",
   "id": "a99f0c6d",
   "metadata": {
    "heading_collapsed": true
   },
   "source": [
    "## Rebotes"
   ]
  },
  {
   "cell_type": "code",
   "execution_count": null,
   "id": "ec13acc6",
   "metadata": {
    "hidden": true
   },
   "outputs": [],
   "source": [
    "rebound_list = wanted_word_list(plays_list, 'rebound')\n",
    "max_words_rebound_list = find_max_words(rebound_list)\n",
    "columns_rebound_list = columns_def(max_words_rebound_list)"
   ]
  },
  {
   "cell_type": "code",
   "execution_count": null,
   "id": "e95ea703",
   "metadata": {
    "hidden": true
   },
   "outputs": [],
   "source": [
    "rebound_df = pd.DataFrame(rebound_list, columns=columns_rebound_list)\n",
    "rebound_df"
   ]
  },
  {
   "cell_type": "code",
   "execution_count": null,
   "id": "c52c49ef",
   "metadata": {
    "hidden": true
   },
   "outputs": [],
   "source": [
    "fig, axs = plt.subplots(nrows=math.ceil(len(columns_rebound_list)/2), ncols=2, figsize=(10, 30))\n",
    "\n",
    "# Loop para criar os gráficos\n",
    "for n, col in enumerate(columns_rebound_list):\n",
    "    \n",
    "    # Converter o índice 'n' em índices de linha e coluna\n",
    "    row = n // 2\n",
    "    col_idx = n % 2\n",
    "    \n",
    "    top5_words = rebound_df[col].value_counts(normalize=True)[0:10]\n",
    "    sns.barplot(x=top5_words.index, y=top5_words.values, ax=axs[row, col_idx])"
   ]
  },
  {
   "cell_type": "markdown",
   "id": "a075e5db",
   "metadata": {
    "hidden": true
   },
   "source": [
    "### Palavras a serem adicionadas"
   ]
  },
  {
   "cell_type": "code",
   "execution_count": null,
   "id": "e19b9fef",
   "metadata": {
    "hidden": true
   },
   "outputs": [],
   "source": [
    "# Colunas necessárias \n",
    "pbp_tab_data['ORB'] = []\n",
    "pbp_tab_data['DRB'] = []\n",
    "\n",
    "pbp_tab_data"
   ]
  },
  {
   "cell_type": "markdown",
   "id": "9390565b",
   "metadata": {},
   "source": [
    "## Turnover"
   ]
  },
  {
   "cell_type": "code",
   "execution_count": null,
   "id": "cb15fcbe",
   "metadata": {},
   "outputs": [],
   "source": [
    "tov_list = wanted_word_list(plays_list, 'turnover')\n",
    "max_words_tov_list = find_max_words(tov_list)\n",
    "columns_tov_list = columns_def(max_words_tov_list)"
   ]
  },
  {
   "cell_type": "code",
   "execution_count": null,
   "id": "177bb0ef",
   "metadata": {},
   "outputs": [],
   "source": [
    "tov_df = pd.DataFrame(tov_list, columns=columns_tov_list)\n",
    "tov_df"
   ]
  },
  {
   "cell_type": "code",
   "execution_count": null,
   "id": "2ce7e4a1",
   "metadata": {},
   "outputs": [],
   "source": [
    "fig, axs = plt.subplots(nrows=math.ceil(len(columns_tov_list)), figsize=(10, 30))\n",
    "\n",
    "# Loop para criar os gráficos\n",
    "for n, col in enumerate(columns_tov_list):\n",
    "    \n",
    "    # Converter o índice 'n' em índices de linha e coluna\n",
    "    row = n // 1\n",
    "    \n",
    "    top5_words = tov_df[col].value_counts(normalize=True)[0:15]\n",
    "    sns.barplot(x=top5_words.index, y=top5_words.values, ax=axs[row])\n",
    "    axs[row].set_title(col)"
   ]
  },
  {
   "cell_type": "code",
   "execution_count": null,
   "id": "5e531e97",
   "metadata": {},
   "outputs": [],
   "source": [
    "tov_df[tov_df['word5'] == 'bad']"
   ]
  },
  {
   "cell_type": "code",
   "execution_count": null,
   "id": "a2e2d1a8",
   "metadata": {},
   "outputs": [],
   "source": [
    "tov_df[tov_df['word5'] == 'lost']"
   ]
  },
  {
   "cell_type": "code",
   "execution_count": null,
   "id": "99558e01",
   "metadata": {},
   "outputs": [],
   "source": [
    "tov_df[tov_df['word5'] == 'offensive']"
   ]
  },
  {
   "cell_type": "code",
   "execution_count": null,
   "id": "fe23e72c",
   "metadata": {},
   "outputs": [],
   "source": [
    "tov_df[tov_df['word5'] == 'traveling']"
   ]
  },
  {
   "cell_type": "code",
   "execution_count": null,
   "id": "16d34504",
   "metadata": {},
   "outputs": [],
   "source": [
    "tov_df[tov_df['word5'] == 'back']"
   ]
  },
  {
   "cell_type": "code",
   "execution_count": null,
   "id": "115be6b2",
   "metadata": {},
   "outputs": [],
   "source": [
    "tov_df[tov_df['word5'] == 'step']"
   ]
  },
  {
   "cell_type": "code",
   "execution_count": null,
   "id": "b0edd6f8",
   "metadata": {},
   "outputs": [],
   "source": [
    "tov_df[tov_df['word5'] == 'dbl']"
   ]
  },
  {
   "cell_type": "code",
   "execution_count": null,
   "id": "3e08ce08",
   "metadata": {},
   "outputs": [],
   "source": [
    "tov_df[tov_df['word5'] == 'palming']"
   ]
  },
  {
   "cell_type": "code",
   "execution_count": null,
   "id": "f7131c71",
   "metadata": {},
   "outputs": [],
   "source": [
    "tov_df[tov_df['word7'] == 'bounds']"
   ]
  },
  {
   "cell_type": "code",
   "execution_count": null,
   "id": "5e0ac453",
   "metadata": {},
   "outputs": [],
   "source": [
    "tov_df[tov_df['word8'] == 'bounds']"
   ]
  },
  {
   "cell_type": "code",
   "execution_count": null,
   "id": "5c4ca6c0",
   "metadata": {},
   "outputs": [],
   "source": [
    "tov_df[tov_df['word8'] == 'lost']"
   ]
  },
  {
   "cell_type": "markdown",
   "id": "ffd9d2e2",
   "metadata": {
    "heading_collapsed": true
   },
   "source": [
    "### Palavras adicionadas"
   ]
  },
  {
   "cell_type": "code",
   "execution_count": null,
   "id": "c3e8d1ca",
   "metadata": {
    "hidden": true
   },
   "outputs": [],
   "source": [
    "pbp_tab_data['TOV'] = []\n",
    "pbp_tab_data['bad_pass'] = []\n",
    "pbp_tab_data['lost_ball'] = []\n",
    "pbp_tab_data['PF'] = []\n",
    "pbp_tab_data['offensive_foul'] = []\n",
    "pbp_tab_data['offensive_foul_to'] = []\n",
    "pbp_tab_data['offensive_draw_by'] = []\n",
    "pbp_tab_data['offensive_foul_to'] = []\n",
    "pbp_tab_data['travelling'] = []\n",
    "pbp_tab_data['back_court'] = []\n",
    "pbp_tab_data['dbl_dribbling'] = []\n",
    "pbp_tab_data['palming'] = []\n",
    "pbp_tab_data['STL'] = []\n",
    "pbp_tab_data['STL_by'] = []\n",
    "pbp_tab_data['STL_to'] = []\n",
    "\n",
    "pbp_tab_data"
   ]
  },
  {
   "cell_type": "markdown",
   "id": "86c17f97",
   "metadata": {},
   "source": [
    "## Foul"
   ]
  },
  {
   "cell_type": "code",
   "execution_count": null,
   "id": "ff5edf3e",
   "metadata": {},
   "outputs": [],
   "source": [
    "foul_list = wanted_word_list(plays_list, 'foul')\n",
    "max_words_foul_list = find_max_words(foul_list)\n",
    "columns_foul_list = columns_def(max_words_foul_list)"
   ]
  },
  {
   "cell_type": "code",
   "execution_count": null,
   "id": "aae848c2",
   "metadata": {},
   "outputs": [],
   "source": [
    "foul_df = pd.DataFrame(foul_list, columns=columns_foul_list)\n",
    "foul_df"
   ]
  },
  {
   "cell_type": "code",
   "execution_count": null,
   "id": "ecaed4cd",
   "metadata": {},
   "outputs": [],
   "source": [
    "fig, axs = plt.subplots(nrows=math.ceil(len(columns_foul_list)), figsize=(10, 30))\n",
    "\n",
    "# Loop para criar os gráficos\n",
    "for n, col in enumerate(columns_foul_list):\n",
    "    \n",
    "    # Converter o índice 'n' em índices de linha e coluna\n",
    "    row = n // 1\n",
    "    \n",
    "    top5_words = foul_df[col].value_counts(normalize=True)[0:15]\n",
    "    sns.barplot(x=top5_words.index, y=top5_words.values, ax=axs[row])\n",
    "    axs[row].set_title(col)"
   ]
  },
  {
   "cell_type": "code",
   "execution_count": null,
   "id": "5691ac42",
   "metadata": {},
   "outputs": [],
   "source": [
    "foul_df[foul_df['word1'] == 'shooting']"
   ]
  },
  {
   "cell_type": "code",
   "execution_count": null,
   "id": "7c7d0f4c",
   "metadata": {},
   "outputs": [],
   "source": [
    "foul_df[foul_df['word1'] == 'personal']"
   ]
  },
  {
   "cell_type": "code",
   "execution_count": null,
   "id": "72be18bc",
   "metadata": {},
   "outputs": [],
   "source": [
    "foul_df[foul_df['word1'] == 'offensive']"
   ]
  },
  {
   "cell_type": "code",
   "execution_count": null,
   "id": "58e37547",
   "metadata": {},
   "outputs": [],
   "source": [
    "foul_df[foul_df['word1'] == 'loose']"
   ]
  },
  {
   "cell_type": "code",
   "execution_count": null,
   "id": "052fdcbe",
   "metadata": {},
   "outputs": [],
   "source": [
    "foul_df[foul_df['word1'] == 'technical']"
   ]
  },
  {
   "cell_type": "code",
   "execution_count": null,
   "id": "000cc2ff",
   "metadata": {},
   "outputs": [],
   "source": [
    "foul_df[foul_df['word1'] == 'flagrant']"
   ]
  },
  {
   "cell_type": "code",
   "execution_count": null,
   "id": "da3219fa",
   "metadata": {},
   "outputs": [],
   "source": [
    "foul_df[foul_df['word1'] == 'def']"
   ]
  },
  {
   "cell_type": "code",
   "execution_count": null,
   "id": "d23a021c",
   "metadata": {},
   "outputs": [],
   "source": [
    "foul_df[foul_df['word1'] == 'away']"
   ]
  },
  {
   "cell_type": "code",
   "execution_count": null,
   "id": "18beb811",
   "metadata": {},
   "outputs": [],
   "source": []
  },
  {
   "cell_type": "code",
   "execution_count": null,
   "id": "c38121cd",
   "metadata": {},
   "outputs": [],
   "source": [
    "! git add.\n",
    "\n",
    "! git commit -m \"31/10/2024\""
   ]
  },
  {
   "cell_type": "code",
   "execution_count": null,
   "id": "bb0617f8",
   "metadata": {},
   "outputs": [],
   "source": []
  },
  {
   "cell_type": "code",
   "execution_count": null,
   "id": "3693bcd9",
   "metadata": {},
   "outputs": [],
   "source": []
  },
  {
   "cell_type": "code",
   "execution_count": null,
   "id": "ed641687",
   "metadata": {},
   "outputs": [],
   "source": []
  },
  {
   "cell_type": "code",
   "execution_count": null,
   "id": "5a26caa9",
   "metadata": {},
   "outputs": [],
   "source": []
  },
  {
   "cell_type": "code",
   "execution_count": null,
   "id": "f4f5c2a0",
   "metadata": {},
   "outputs": [],
   "source": []
  },
  {
   "cell_type": "code",
   "execution_count": null,
   "id": "7c28147f",
   "metadata": {},
   "outputs": [],
   "source": []
  },
  {
   "cell_type": "code",
   "execution_count": null,
   "id": "01451211",
   "metadata": {},
   "outputs": [],
   "source": []
  },
  {
   "cell_type": "code",
   "execution_count": null,
   "id": "dfba9ed0",
   "metadata": {},
   "outputs": [],
   "source": []
  },
  {
   "cell_type": "code",
   "execution_count": null,
   "id": "f5213718",
   "metadata": {},
   "outputs": [],
   "source": [
    "list_test = ['PTS', '2PA', '3PM']"
   ]
  },
  {
   "cell_type": "code",
   "execution_count": null,
   "id": "580667da",
   "metadata": {},
   "outputs": [],
   "source": [
    "for i in list(teste_dict.keys()):\n",
    "    if i not in list_test:\n",
    "        teste_dict[i].append(0)"
   ]
  },
  {
   "cell_type": "code",
   "execution_count": null,
   "id": "5baa9340",
   "metadata": {},
   "outputs": [],
   "source": [
    "def complete_row(sd, rows):\n",
    "    \n",
    "    for i in list(sd.keys()):\n",
    "        if i not in rows:\n",
    "            sd[i].append(0)"
   ]
  },
  {
   "cell_type": "code",
   "execution_count": null,
   "id": "64827d66",
   "metadata": {},
   "outputs": [],
   "source": [
    "complete_row(teste_dict, list_test)"
   ]
  },
  {
   "cell_type": "code",
   "execution_count": null,
   "id": "12063ebb",
   "metadata": {},
   "outputs": [],
   "source": []
  }
 ],
 "metadata": {
  "kernelspec": {
   "display_name": "Python 3 (ipykernel)",
   "language": "python",
   "name": "python3"
  },
  "language_info": {
   "codemirror_mode": {
    "name": "ipython",
    "version": 3
   },
   "file_extension": ".py",
   "mimetype": "text/x-python",
   "name": "python",
   "nbconvert_exporter": "python",
   "pygments_lexer": "ipython3",
   "version": "3.10.6"
  },
  "toc": {
   "base_numbering": 1,
   "nav_menu": {},
   "number_sections": true,
   "sideBar": true,
   "skip_h1_title": false,
   "title_cell": "Table of Contents",
   "title_sidebar": "Contents",
   "toc_cell": false,
   "toc_position": {},
   "toc_section_display": true,
   "toc_window_display": false
  }
 },
 "nbformat": 4,
 "nbformat_minor": 5
}
